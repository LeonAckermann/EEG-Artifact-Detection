{
  "cells": [
    {
      "cell_type": "markdown",
      "metadata": {
        "id": "5mePBKiuhLwI"
      },
      "source": [
        "#Imports\n",
        "\n"
      ]
    },
    {
      "cell_type": "code",
      "execution_count": 1,
      "metadata": {
        "id": "1Fg6CWtte8EP"
      },
      "outputs": [],
      "source": [
        "import sys\n",
        "sys.path.append('../')\n",
        "from mylibs import *"
      ]
    },
    {
      "cell_type": "markdown",
      "metadata": {
        "id": "cn70Oc6QfDv6"
      },
      "source": [
        "# Data Loading"
      ]
    },
    {
      "cell_type": "code",
      "execution_count": 2,
      "metadata": {
        "id": "g1iggRVMfD_T"
      },
      "outputs": [
        {
          "name": "stdout",
          "output_type": "stream",
          "text": [
            "Metal device set to: Apple M1 Pro\n",
            "\n",
            "systemMemory: 32.00 GB\n",
            "maxCacheSize: 10.67 GB\n",
            "\n"
          ]
        }
      ],
      "source": [
        "from data.data import Data\n",
        "handler = Data()\n",
        "data = handler.load('../artifacts_5s_128hz.pkl')\n",
        "train_split, val_split, test_split = handler.split(data)\n",
        "\n",
        "# to-do: modify for CNN-transformer\n",
        "train = handler.prepare_data(train_split, balance=True, dataset=True, transformer=True)\n",
        "val = handler.prepare_data(val_split, dataset=True, transformer=True)\n",
        "test = handler.prepare_data(test_split, transformer=True, dataset=True)"
      ]
    },
    {
      "cell_type": "markdown",
      "metadata": {
        "id": "0AIroNYSfIkx"
      },
      "source": [
        "# Setting up the Hparameter search grid"
      ]
    },
    {
      "cell_type": "code",
      "execution_count": 3,
      "metadata": {
        "id": "uek2AkZOfGAZ"
      },
      "outputs": [],
      "source": [
        "import tensorflow as tf\n",
        "from tensorboard.plugins.hparams import api as hp\n",
        "\n",
        "from architectures.CCNAttentionNetwork import \n",
        "\n",
        "# Define the hyperparameters you want to tune\n",
        "HP_NUM_UNITS = hp.HParam('num_units', hp.Discrete([320, 640]))\n",
        "HP_NUM_LAYERS = hp.HParam('num_layers', hp.Discrete([1, 2,3,4,5]))\n",
        "HP_NUM_HEADS = hp.HParam('num_heads', hp.Discrete([4,8]))\n",
        "HP_NUM_CONVLAYERS = hp.HParam('num_convlayers', hp.Discrete([1,2,3,4,5]))\n",
        "\n",
        "# Define a function to build your model\n",
        "\n",
        "def create_model(hparams):\n",
        "\n",
        "    model = CCNAttentionNetwork(hparams[HP_NUM_UNITS], hparams[HP_NUM_LAYERS], hparams[HP_NUM_HEADS], hparams[HP_NUM_CONVLAYERS])\n",
        "    return model\n",
        "\n",
        "\n",
        "# Define a function to run a single experiment\n",
        "\n",
        "def run_experiment(hparams, epochs, logdir, savedir, checkpointdir):\n",
        "    \n",
        "     # Create the model using the hyperparameters\n",
        "    model = create_model(hparams)\n",
        "\n",
        "\n",
        "   \n",
        "    # Compile the model\n",
        "    model.compile(loss=tf.keras.losses.BinaryCrossentropy(), \n",
        "              optimizer=tf.keras.optimizers.Adam(), \n",
        "              metrics=[tf.keras.metrics.Precision(), tf.keras.metrics.BinaryAccuracy(), tf.keras.metrics.AUC(), tf.keras.metrics.Recall()])\n",
        "\n",
        "    # Train the model\n",
        "    model.fit(train, \n",
        "              epochs=epochs, \n",
        "              validation_data = val,\n",
        "              callbacks=[tf.keras.callbacks.TensorBoard(logdir),  # log metrics\n",
        "                        hp.KerasCallback(logdir, hparams),  # log hparams\n",
        "                        tf.keras.callbacks.ModelCheckpoint(filepath= os.path.join(checkpointdir, \"ckpt_{epoch}\") ,monitor='val_loss',save_weights_only=True), # save checkpoints when val loss goes down\n",
        "                        tf.keras.callbacks.EarlyStopping(monitor='val_loss', patience=20, restore_best_weights=True)], # early stopping in the case that loss doesnt go down for 3 epochs\n",
        "              ) \n",
        "\n",
        "    \n",
        "\n",
        "    # Evaluate the model\n",
        "    accuracy = model.evaluate(test)\n",
        "\n",
        "    # Save model parameters\n",
        "    model.save(savedir)\n",
        "    return accuracy"
      ]
    },
    {
      "cell_type": "markdown",
      "metadata": {
        "id": "2xt0X25afJJ8"
      },
      "source": [
        "# Searching\n"
      ]
    },
    {
      "cell_type": "code",
      "execution_count": 4,
      "metadata": {
        "id": "BN0BL7f_fIL9"
      },
      "outputs": [
        {
          "name": "stdout",
          "output_type": "stream",
          "text": [
            "--- Starting trial: run-0\n",
            "{'num_units': 320, 'num_layers': 1, 'num_heads': 4, 'num_convlayers': 1}\n",
            "Epoch 1/20\n"
          ]
        },
        {
          "ename": "ValueError",
          "evalue": "in user code:\n\n    File \"/Users/leonackermann/miniforge3/envs/iannwtf/lib/python3.10/site-packages/keras/engine/training.py\", line 1160, in train_function  *\n        return step_function(self, iterator)\n    File \"/Users/leonackermann/miniforge3/envs/iannwtf/lib/python3.10/site-packages/keras/engine/training.py\", line 1146, in step_function  **\n        outputs = model.distribute_strategy.run(run_step, args=(data,))\n    File \"/Users/leonackermann/miniforge3/envs/iannwtf/lib/python3.10/site-packages/keras/engine/training.py\", line 1135, in run_step  **\n        outputs = model.train_step(data)\n    File \"/Users/leonackermann/miniforge3/envs/iannwtf/lib/python3.10/site-packages/keras/engine/training.py\", line 994, in train_step\n        loss = self.compute_loss(x, y, y_pred, sample_weight)\n    File \"/Users/leonackermann/miniforge3/envs/iannwtf/lib/python3.10/site-packages/keras/engine/training.py\", line 1052, in compute_loss\n        return self.compiled_loss(\n    File \"/Users/leonackermann/miniforge3/envs/iannwtf/lib/python3.10/site-packages/keras/engine/compile_utils.py\", line 265, in __call__\n        loss_value = loss_obj(y_t, y_p, sample_weight=sw)\n    File \"/Users/leonackermann/miniforge3/envs/iannwtf/lib/python3.10/site-packages/keras/losses.py\", line 158, in __call__\n        return losses_utils.compute_weighted_loss(\n    File \"/Users/leonackermann/miniforge3/envs/iannwtf/lib/python3.10/site-packages/keras/utils/losses_utils.py\", line 350, in compute_weighted_loss\n        ) = squeeze_or_expand_dimensions(losses, None, sample_weight)\n    File \"/Users/leonackermann/miniforge3/envs/iannwtf/lib/python3.10/site-packages/keras/utils/losses_utils.py\", line 224, in squeeze_or_expand_dimensions\n        sample_weight = tf.squeeze(sample_weight, [-1])\n\n    ValueError: Can not squeeze dim[1], expected a dimension of 1, got 640 for '{{node binary_crossentropy/weighted_loss/Squeeze}} = Squeeze[T=DT_FLOAT, squeeze_dims=[-1]](Cast)' with input shapes: [?,640].\n",
          "output_type": "error",
          "traceback": [
            "\u001b[0;31m---------------------------------------------------------------------------\u001b[0m",
            "\u001b[0;31mValueError\u001b[0m                                Traceback (most recent call last)",
            "\u001b[1;32m/Users/leonackermann/Desktop/EEG-Artifact-Detection/hyperparams_optimization/transformer_architecture_tuning.ipynb Cell 8\u001b[0m in \u001b[0;36m2\n\u001b[1;32m     <a href='vscode-notebook-cell:/Users/leonackermann/Desktop/EEG-Artifact-Detection/hyperparams_optimization/transformer_architecture_tuning.ipynb#X10sZmlsZQ%3D%3D?line=18'>19</a>\u001b[0m \u001b[39mprint\u001b[39m({h\u001b[39m.\u001b[39mname: hparams[h] \u001b[39mfor\u001b[39;00m h \u001b[39min\u001b[39;00m hparams})\n\u001b[1;32m     <a href='vscode-notebook-cell:/Users/leonackermann/Desktop/EEG-Artifact-Detection/hyperparams_optimization/transformer_architecture_tuning.ipynb#X10sZmlsZQ%3D%3D?line=20'>21</a>\u001b[0m \u001b[39m# Run a single experiment\u001b[39;00m\n\u001b[0;32m---> <a href='vscode-notebook-cell:/Users/leonackermann/Desktop/EEG-Artifact-Detection/hyperparams_optimization/transformer_architecture_tuning.ipynb#X10sZmlsZQ%3D%3D?line=21'>22</a>\u001b[0m accuracy \u001b[39m=\u001b[39m run_experiment(\n\u001b[1;32m     <a href='vscode-notebook-cell:/Users/leonackermann/Desktop/EEG-Artifact-Detection/hyperparams_optimization/transformer_architecture_tuning.ipynb#X10sZmlsZQ%3D%3D?line=22'>23</a>\u001b[0m     hparams\u001b[39m=\u001b[39;49mhparams,\n\u001b[1;32m     <a href='vscode-notebook-cell:/Users/leonackermann/Desktop/EEG-Artifact-Detection/hyperparams_optimization/transformer_architecture_tuning.ipynb#X10sZmlsZQ%3D%3D?line=23'>24</a>\u001b[0m     epochs \u001b[39m=\u001b[39;49m \u001b[39m20\u001b[39;49m,\n\u001b[1;32m     <a href='vscode-notebook-cell:/Users/leonackermann/Desktop/EEG-Artifact-Detection/hyperparams_optimization/transformer_architecture_tuning.ipynb#X10sZmlsZQ%3D%3D?line=24'>25</a>\u001b[0m     logdir\u001b[39m=\u001b[39;49m\u001b[39m'\u001b[39;49m\u001b[39mlogs/hparam_tuning/\u001b[39;49m\u001b[39m'\u001b[39;49m \u001b[39m+\u001b[39;49m run_name, \n\u001b[1;32m     <a href='vscode-notebook-cell:/Users/leonackermann/Desktop/EEG-Artifact-Detection/hyperparams_optimization/transformer_architecture_tuning.ipynb#X10sZmlsZQ%3D%3D?line=25'>26</a>\u001b[0m     savedir\u001b[39m=\u001b[39;49m\u001b[39m'\u001b[39;49m\u001b[39mlogs/models/\u001b[39;49m\u001b[39m'\u001b[39;49m\u001b[39m+\u001b[39;49mrun_name, \n\u001b[1;32m     <a href='vscode-notebook-cell:/Users/leonackermann/Desktop/EEG-Artifact-Detection/hyperparams_optimization/transformer_architecture_tuning.ipynb#X10sZmlsZQ%3D%3D?line=26'>27</a>\u001b[0m     checkpointdir\u001b[39m=\u001b[39;49m\u001b[39m'\u001b[39;49m\u001b[39mlogs/checkpoints\u001b[39;49m\u001b[39m'\u001b[39;49m\u001b[39m+\u001b[39;49mrun_name)\n\u001b[1;32m     <a href='vscode-notebook-cell:/Users/leonackermann/Desktop/EEG-Artifact-Detection/hyperparams_optimization/transformer_architecture_tuning.ipynb#X10sZmlsZQ%3D%3D?line=27'>28</a>\u001b[0m session_num \u001b[39m+\u001b[39m\u001b[39m=\u001b[39m \u001b[39m1\u001b[39m\n",
            "\u001b[1;32m/Users/leonackermann/Desktop/EEG-Artifact-Detection/hyperparams_optimization/transformer_architecture_tuning.ipynb Cell 8\u001b[0m in \u001b[0;36m3\n\u001b[1;32m     <a href='vscode-notebook-cell:/Users/leonackermann/Desktop/EEG-Artifact-Detection/hyperparams_optimization/transformer_architecture_tuning.ipynb#X10sZmlsZQ%3D%3D?line=29'>30</a>\u001b[0m model\u001b[39m.\u001b[39mcompile(loss\u001b[39m=\u001b[39mtf\u001b[39m.\u001b[39mkeras\u001b[39m.\u001b[39mlosses\u001b[39m.\u001b[39mBinaryCrossentropy(), \n\u001b[1;32m     <a href='vscode-notebook-cell:/Users/leonackermann/Desktop/EEG-Artifact-Detection/hyperparams_optimization/transformer_architecture_tuning.ipynb#X10sZmlsZQ%3D%3D?line=30'>31</a>\u001b[0m           optimizer\u001b[39m=\u001b[39mtf\u001b[39m.\u001b[39mkeras\u001b[39m.\u001b[39moptimizers\u001b[39m.\u001b[39mAdam(), \n\u001b[1;32m     <a href='vscode-notebook-cell:/Users/leonackermann/Desktop/EEG-Artifact-Detection/hyperparams_optimization/transformer_architecture_tuning.ipynb#X10sZmlsZQ%3D%3D?line=31'>32</a>\u001b[0m           metrics\u001b[39m=\u001b[39m[tf\u001b[39m.\u001b[39mkeras\u001b[39m.\u001b[39mmetrics\u001b[39m.\u001b[39mPrecision(), tf\u001b[39m.\u001b[39mkeras\u001b[39m.\u001b[39mmetrics\u001b[39m.\u001b[39mBinaryAccuracy(), tf\u001b[39m.\u001b[39mkeras\u001b[39m.\u001b[39mmetrics\u001b[39m.\u001b[39mAUC(), tf\u001b[39m.\u001b[39mkeras\u001b[39m.\u001b[39mmetrics\u001b[39m.\u001b[39mRecall()])\n\u001b[1;32m     <a href='vscode-notebook-cell:/Users/leonackermann/Desktop/EEG-Artifact-Detection/hyperparams_optimization/transformer_architecture_tuning.ipynb#X10sZmlsZQ%3D%3D?line=33'>34</a>\u001b[0m \u001b[39m# Train the model\u001b[39;00m\n\u001b[0;32m---> <a href='vscode-notebook-cell:/Users/leonackermann/Desktop/EEG-Artifact-Detection/hyperparams_optimization/transformer_architecture_tuning.ipynb#X10sZmlsZQ%3D%3D?line=34'>35</a>\u001b[0m model\u001b[39m.\u001b[39;49mfit(train, \n\u001b[1;32m     <a href='vscode-notebook-cell:/Users/leonackermann/Desktop/EEG-Artifact-Detection/hyperparams_optimization/transformer_architecture_tuning.ipynb#X10sZmlsZQ%3D%3D?line=35'>36</a>\u001b[0m           epochs\u001b[39m=\u001b[39;49mepochs, \n\u001b[1;32m     <a href='vscode-notebook-cell:/Users/leonackermann/Desktop/EEG-Artifact-Detection/hyperparams_optimization/transformer_architecture_tuning.ipynb#X10sZmlsZQ%3D%3D?line=36'>37</a>\u001b[0m           validation_data \u001b[39m=\u001b[39;49m val,\n\u001b[1;32m     <a href='vscode-notebook-cell:/Users/leonackermann/Desktop/EEG-Artifact-Detection/hyperparams_optimization/transformer_architecture_tuning.ipynb#X10sZmlsZQ%3D%3D?line=37'>38</a>\u001b[0m           callbacks\u001b[39m=\u001b[39;49m[tf\u001b[39m.\u001b[39;49mkeras\u001b[39m.\u001b[39;49mcallbacks\u001b[39m.\u001b[39;49mTensorBoard(logdir),  \u001b[39m# log metrics\u001b[39;49;00m\n\u001b[1;32m     <a href='vscode-notebook-cell:/Users/leonackermann/Desktop/EEG-Artifact-Detection/hyperparams_optimization/transformer_architecture_tuning.ipynb#X10sZmlsZQ%3D%3D?line=38'>39</a>\u001b[0m                     hp\u001b[39m.\u001b[39;49mKerasCallback(logdir, hparams),  \u001b[39m# log hparams\u001b[39;49;00m\n\u001b[1;32m     <a href='vscode-notebook-cell:/Users/leonackermann/Desktop/EEG-Artifact-Detection/hyperparams_optimization/transformer_architecture_tuning.ipynb#X10sZmlsZQ%3D%3D?line=39'>40</a>\u001b[0m                     tf\u001b[39m.\u001b[39;49mkeras\u001b[39m.\u001b[39;49mcallbacks\u001b[39m.\u001b[39;49mModelCheckpoint(filepath\u001b[39m=\u001b[39;49m os\u001b[39m.\u001b[39;49mpath\u001b[39m.\u001b[39;49mjoin(checkpointdir, \u001b[39m\"\u001b[39;49m\u001b[39mckpt_\u001b[39;49m\u001b[39m{epoch}\u001b[39;49;00m\u001b[39m\"\u001b[39;49m) ,monitor\u001b[39m=\u001b[39;49m\u001b[39m'\u001b[39;49m\u001b[39mval_loss\u001b[39;49m\u001b[39m'\u001b[39;49m,save_weights_only\u001b[39m=\u001b[39;49m\u001b[39mTrue\u001b[39;49;00m), \u001b[39m# save checkpoints when val loss goes down\u001b[39;49;00m\n\u001b[1;32m     <a href='vscode-notebook-cell:/Users/leonackermann/Desktop/EEG-Artifact-Detection/hyperparams_optimization/transformer_architecture_tuning.ipynb#X10sZmlsZQ%3D%3D?line=40'>41</a>\u001b[0m                     tf\u001b[39m.\u001b[39;49mkeras\u001b[39m.\u001b[39;49mcallbacks\u001b[39m.\u001b[39;49mEarlyStopping(monitor\u001b[39m=\u001b[39;49m\u001b[39m'\u001b[39;49m\u001b[39mval_loss\u001b[39;49m\u001b[39m'\u001b[39;49m, patience\u001b[39m=\u001b[39;49m\u001b[39m20\u001b[39;49m, restore_best_weights\u001b[39m=\u001b[39;49m\u001b[39mTrue\u001b[39;49;00m)], \u001b[39m# early stopping in the case that loss doesnt go down for 3 epochs\u001b[39;49;00m\n\u001b[1;32m     <a href='vscode-notebook-cell:/Users/leonackermann/Desktop/EEG-Artifact-Detection/hyperparams_optimization/transformer_architecture_tuning.ipynb#X10sZmlsZQ%3D%3D?line=41'>42</a>\u001b[0m           ) \n\u001b[1;32m     <a href='vscode-notebook-cell:/Users/leonackermann/Desktop/EEG-Artifact-Detection/hyperparams_optimization/transformer_architecture_tuning.ipynb#X10sZmlsZQ%3D%3D?line=45'>46</a>\u001b[0m \u001b[39m# Evaluate the model\u001b[39;00m\n\u001b[1;32m     <a href='vscode-notebook-cell:/Users/leonackermann/Desktop/EEG-Artifact-Detection/hyperparams_optimization/transformer_architecture_tuning.ipynb#X10sZmlsZQ%3D%3D?line=46'>47</a>\u001b[0m accuracy \u001b[39m=\u001b[39m model\u001b[39m.\u001b[39mevaluate(test)\n",
            "File \u001b[0;32m~/miniforge3/envs/iannwtf/lib/python3.10/site-packages/keras/utils/traceback_utils.py:70\u001b[0m, in \u001b[0;36mfilter_traceback.<locals>.error_handler\u001b[0;34m(*args, **kwargs)\u001b[0m\n\u001b[1;32m     67\u001b[0m     filtered_tb \u001b[39m=\u001b[39m _process_traceback_frames(e\u001b[39m.\u001b[39m__traceback__)\n\u001b[1;32m     68\u001b[0m     \u001b[39m# To get the full stack trace, call:\u001b[39;00m\n\u001b[1;32m     69\u001b[0m     \u001b[39m# `tf.debugging.disable_traceback_filtering()`\u001b[39;00m\n\u001b[0;32m---> 70\u001b[0m     \u001b[39mraise\u001b[39;00m e\u001b[39m.\u001b[39mwith_traceback(filtered_tb) \u001b[39mfrom\u001b[39;00m \u001b[39mNone\u001b[39m\n\u001b[1;32m     71\u001b[0m \u001b[39mfinally\u001b[39;00m:\n\u001b[1;32m     72\u001b[0m     \u001b[39mdel\u001b[39;00m filtered_tb\n",
            "File \u001b[0;32m/var/folders/2q/hwnn9141093b7bkbnd4bm7tc0000gn/T/__autograph_generated_file1cf1xiuk.py:15\u001b[0m, in \u001b[0;36mouter_factory.<locals>.inner_factory.<locals>.tf__train_function\u001b[0;34m(iterator)\u001b[0m\n\u001b[1;32m     13\u001b[0m \u001b[39mtry\u001b[39;00m:\n\u001b[1;32m     14\u001b[0m     do_return \u001b[39m=\u001b[39m \u001b[39mTrue\u001b[39;00m\n\u001b[0;32m---> 15\u001b[0m     retval_ \u001b[39m=\u001b[39m ag__\u001b[39m.\u001b[39mconverted_call(ag__\u001b[39m.\u001b[39mld(step_function), (ag__\u001b[39m.\u001b[39mld(\u001b[39mself\u001b[39m), ag__\u001b[39m.\u001b[39mld(iterator)), \u001b[39mNone\u001b[39;00m, fscope)\n\u001b[1;32m     16\u001b[0m \u001b[39mexcept\u001b[39;00m:\n\u001b[1;32m     17\u001b[0m     do_return \u001b[39m=\u001b[39m \u001b[39mFalse\u001b[39;00m\n",
            "\u001b[0;31mValueError\u001b[0m: in user code:\n\n    File \"/Users/leonackermann/miniforge3/envs/iannwtf/lib/python3.10/site-packages/keras/engine/training.py\", line 1160, in train_function  *\n        return step_function(self, iterator)\n    File \"/Users/leonackermann/miniforge3/envs/iannwtf/lib/python3.10/site-packages/keras/engine/training.py\", line 1146, in step_function  **\n        outputs = model.distribute_strategy.run(run_step, args=(data,))\n    File \"/Users/leonackermann/miniforge3/envs/iannwtf/lib/python3.10/site-packages/keras/engine/training.py\", line 1135, in run_step  **\n        outputs = model.train_step(data)\n    File \"/Users/leonackermann/miniforge3/envs/iannwtf/lib/python3.10/site-packages/keras/engine/training.py\", line 994, in train_step\n        loss = self.compute_loss(x, y, y_pred, sample_weight)\n    File \"/Users/leonackermann/miniforge3/envs/iannwtf/lib/python3.10/site-packages/keras/engine/training.py\", line 1052, in compute_loss\n        return self.compiled_loss(\n    File \"/Users/leonackermann/miniforge3/envs/iannwtf/lib/python3.10/site-packages/keras/engine/compile_utils.py\", line 265, in __call__\n        loss_value = loss_obj(y_t, y_p, sample_weight=sw)\n    File \"/Users/leonackermann/miniforge3/envs/iannwtf/lib/python3.10/site-packages/keras/losses.py\", line 158, in __call__\n        return losses_utils.compute_weighted_loss(\n    File \"/Users/leonackermann/miniforge3/envs/iannwtf/lib/python3.10/site-packages/keras/utils/losses_utils.py\", line 350, in compute_weighted_loss\n        ) = squeeze_or_expand_dimensions(losses, None, sample_weight)\n    File \"/Users/leonackermann/miniforge3/envs/iannwtf/lib/python3.10/site-packages/keras/utils/losses_utils.py\", line 224, in squeeze_or_expand_dimensions\n        sample_weight = tf.squeeze(sample_weight, [-1])\n\n    ValueError: Can not squeeze dim[1], expected a dimension of 1, got 640 for '{{node binary_crossentropy/weighted_loss/Squeeze}} = Squeeze[T=DT_FLOAT, squeeze_dims=[-1]](Cast)' with input shapes: [?,640].\n"
          ]
        }
      ],
      "source": [
        "# Define the hyperparameter search space\n",
        "\n",
        "import logging\n",
        "logging.getLogger('tensorflow').setLevel(logging.ERROR)\n",
        "\n",
        "session_num = 0\n",
        "for num_units in HP_NUM_UNITS.domain.values:\n",
        "    for num_layers in HP_NUM_LAYERS.domain.values:\n",
        "       for num_heads in HP_NUM_HEADS.domain.values:\n",
        "         for num_convlayers in HP_NUM_CONVLAYERS.domain.values:\n",
        "                hparams = {\n",
        "                    HP_NUM_UNITS: num_units,\n",
        "                    HP_NUM_LAYERS: num_layers,\n",
        "                    HP_NUM_HEADS: num_heads,\n",
        "                    HP_NUM_CONVLAYERS: num_convlayers\n",
        "                }\n",
        "                run_name = \"run-%d\" % session_num\n",
        "                print('--- Starting trial: %s' % run_name)\n",
        "                print({h.name: hparams[h] for h in hparams})\n",
        "\n",
        "                # Run a single experiment\n",
        "                accuracy = run_experiment(\n",
        "                    hparams=hparams,\n",
        "                    epochs = 20,\n",
        "                    logdir='logs/hparam_tuning/' + run_name, \n",
        "                    savedir='logs/models/'+run_name, \n",
        "                    checkpointdir='logs/checkpoints'+run_name)\n",
        "                session_num += 1"
      ]
    },
    {
      "cell_type": "code",
      "execution_count": null,
      "metadata": {},
      "outputs": [],
      "source": []
    }
  ],
  "metadata": {
    "colab": {
      "provenance": []
    },
    "kernelspec": {
      "display_name": "Python 3",
      "name": "python3"
    },
    "language_info": {
      "codemirror_mode": {
        "name": "ipython",
        "version": 3
      },
      "file_extension": ".py",
      "mimetype": "text/x-python",
      "name": "python",
      "nbconvert_exporter": "python",
      "pygments_lexer": "ipython3",
      "version": "3.10.6"
    }
  },
  "nbformat": 4,
  "nbformat_minor": 0
}
