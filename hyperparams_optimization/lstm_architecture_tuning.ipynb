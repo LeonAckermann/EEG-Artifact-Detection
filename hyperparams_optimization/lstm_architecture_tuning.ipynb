{
 "cells": [
  {
   "attachments": {},
   "cell_type": "markdown",
   "metadata": {},
   "source": [
    "# Imports"
   ]
  },
  {
   "cell_type": "code",
   "execution_count": 14,
   "metadata": {},
   "outputs": [],
   "source": [
    "import sys\n",
    "sys.path.append('../')\n",
    "from mylibs import *\n",
    "\n",
    "from experiment import Experiment"
   ]
  },
  {
   "attachments": {},
   "cell_type": "markdown",
   "metadata": {
    "id": "xhU8Cskx6dTw"
   },
   "source": [
    "## Data\n",
    "Load and split the data. Documentation of the functions can be found in data/data.py"
   ]
  },
  {
   "cell_type": "code",
   "execution_count": 15,
   "metadata": {},
   "outputs": [],
   "source": [
    "from data.data import Data\n",
    "handler = Data()\n",
    "\n",
    "# load the data from pickle file one directory above the current directory\n",
    "data = handler.load('../artifacts_5s_128hz.pkl')\n",
    "\n",
    "# split dataset into train, val and test set\n",
    "train_split, val_split, test_split = handler.split(data) "
   ]
  },
  {
   "attachments": {},
   "cell_type": "markdown",
   "metadata": {},
   "source": [
    "## Metrics"
   ]
  },
  {
   "cell_type": "code",
   "execution_count": 3,
   "metadata": {},
   "outputs": [],
   "source": [
    "# all other metrics that we would like to track for each model architecture\n",
    "metrics = [\n",
    "      keras.metrics.TruePositives(name='tp'),\n",
    "      keras.metrics.FalsePositives(name='fp'),\n",
    "      keras.metrics.TrueNegatives(name='tn'),\n",
    "      keras.metrics.FalseNegatives(name='fn'), \n",
    "      keras.metrics.CategoricalAccuracy(name='accuracy'),\n",
    "      keras.metrics.CategoricalCrossentropy(name='loss'),\n",
    "      keras.metrics.Precision(name='precision'),\n",
    "      keras.metrics.Recall(name='recall'),\n",
    "      keras.metrics.AUC(name='auc'),\n",
    "      keras.metrics.AUC(name='prc', curve='PR'), # precision-recall curve\n",
    "]"
   ]
  },
  {
   "attachments": {},
   "cell_type": "markdown",
   "metadata": {},
   "source": [
    "## Search 1 \n",
    "Plain MultiLayerLSTM and BidirectionalLSTM"
   ]
  },
  {
   "cell_type": "code",
   "execution_count": null,
   "metadata": {},
   "outputs": [],
   "source": [
    "train1 = handler.prepare_data(train_split, balance=True, dataset=True, lstm=True, ccn=False)\n",
    "val1 = handler.prepare_data(val_split, dataset=True, lstm=True, ccn=False)\n",
    "test1 = handler.prepare_data(test_split, dataset=True, lstm=True, ccn=False)\n",
    "\n",
    "\n",
    "hparams_dict_1 = {\n",
    "    'HP_ARCHITECTURE': hp.HParam('model_architecture', hp.Discrete(['LSTM'])), # set model architecture as hyperparameter\n",
    "    'HP_NUM_LSTM_LAYERS': hp.HParam('num_lstm_layers', hp.Discrete([1, 2, 4])), # try out 1, 2 or 4 layers for architecture\n",
    "    'HP_NUM_HIDDEN_UNITS': hp.HParam('num_hidden_units', hp.Discrete([32, 64, 128, 256])), # try out different hidden_units\n",
    "    'HP_NUM_DENSE_UNITS': hp.HParam('num_dense_units', hp.Discrete([0])), # try out different number of units for dense layer\n",
    "    'HP_NUM_DENSE_LAYERS': hp.HParam('num_dense_layers', hp.Discrete([0])), # try out different number of dense layers\n",
    "    'HP_NUM_CONV_LAYERS': hp.HParam('num_conv_layers', hp.Discrete([0])),\n",
    "    'HP_INCREASE_UNITS_PER_LSTM_LAYER': hp.HParam('increase_units_per_lstm_layer', hp.Discrete([0])), # increase number of units per lstm layer\n",
    "    'HP_BIDIRECTIONAL': hp.HParam('bidirectional', hp.Discrete([False, True])) # increase number of units per lstm layer\n",
    "}\n",
    "\n",
    "experiment1 = Experiment()\n",
    "\n",
    "experiment1.run_experiment(train=train1,\n",
    "                           val=val1,\n",
    "                           test=test1,\n",
    "                           hparams_dict=hparams_dict_1,\n",
    "                           logdir='logs_lstm_1/',\n",
    "                           metrics=metrics)"
   ]
  },
  {
   "attachments": {},
   "cell_type": "markdown",
   "metadata": {},
   "source": [
    "## Search 2\n",
    "plain MultiLayerLSTM and BidirectionalLSTM but with increasing hidden units per lstm layer, every lstm layer get twice more hidden units than layer before"
   ]
  },
  {
   "cell_type": "code",
   "execution_count": null,
   "metadata": {},
   "outputs": [],
   "source": [
    "train_2 = handler.prepare_data(train_split, balance=True, dataset=True, lstm=True, ccn=False)\n",
    "val_2 = handler.prepare_data(val_split, dataset=True, lstm=True, ccn=False)\n",
    "test_2 = handler.prepare_data(test_split, dataset=True, lstm=True, ccn=False)\n",
    "\n",
    "\n",
    "hparams_dict_2 = {\n",
    "    'HP_ARCHITECTURE': hp.HParam('model_architecture', hp.Discrete(['LSTM'])), # set model architecture as hyperparameter\n",
    "    'HP_NUM_LSTM_LAYERS': hp.HParam('num_lstm_layers', hp.Discrete([1, 2, 4])), # try out 1, 2 or 4 layers for architecture\n",
    "    'HP_NUM_HIDDEN_UNITS': hp.HParam('num_hidden_units', hp.Discrete([32, 64, 128, 256])), # try out different hidden_units\n",
    "    'HP_NUM_DENSE_UNITS': hp.HParam('num_dense_units', hp.Discrete([0])), # try out different number of units for dense layer\n",
    "    'HP_NUM_DENSE_LAYERS': hp.HParam('num_dense_layers', hp.Discrete([0])), # try out different number of dense layers\n",
    "    'HP_NUM_CONV_LAYERS': hp.HParam('num_conv_layers', hp.Discrete([0])),\n",
    "    'HP_INCREASE_UNITS_PER_LSTM_LAYER': hp.HParam('increase_units_per_lstm_layer', hp.Discrete([True])), # increase number of units per lstm layer\n",
    "    'HP_BIDIRECTIONAL': hp.HParam('bidirectional', hp.Discrete([False, True])) # increase number of units per lstm layer\n",
    "}\n",
    "\n",
    "experiment2 = Experiment()\n",
    "\n",
    "experiment2.run_experiment(train=train_2,\n",
    "                           val=val_2,\n",
    "                           test=test_2,\n",
    "                           hparams_dict=hparams_dict_2,\n",
    "                           logdir='logs_lstm_2/',\n",
    "                           metrics=metrics)"
   ]
  },
  {
   "attachments": {},
   "cell_type": "markdown",
   "metadata": {},
   "source": [
    "## Search 3\n",
    "MultiLayerLSTM and Bidirectiona LSTM with different numbers of Dense Layers with different number of units before outputs layer"
   ]
  },
  {
   "cell_type": "code",
   "execution_count": null,
   "metadata": {},
   "outputs": [],
   "source": [
    "train_3 = handler.prepare_data(train_split, balance=True, dataset=True, lstm=True, ccn=False)\n",
    "val_3 = handler.prepare_data(val_split, dataset=True, lstm=True, ccn=False)\n",
    "test_3 = handler.prepare_data(test_split, dataset=True, lstm=True, ccn=False)\n",
    "\n",
    "\n",
    "hparams_dict_3 = {\n",
    "    'HP_ARCHITECTURE': hp.HParam('model_architecture', hp.Discrete(['LSTM'])), # set model architecture as hyperparameter\n",
    "    'HP_NUM_LSTM_LAYERS': hp.HParam('num_lstm_layers', hp.Discrete([1, 2, 4])), # try out 1, 2 or 4 layers for architecture\n",
    "    'HP_NUM_HIDDEN_UNITS': hp.HParam('num_hidden_units', hp.Discrete([32, 64, 128, 256])), # try out different hidden_units\n",
    "    'HP_NUM_DENSE_UNITS': hp.HParam('num_dense_units', hp.Discrete([128, 256])), # try out different number of units for dense layer\n",
    "    'HP_NUM_DENSE_LAYERS': hp.HParam('num_dense_layers', hp.Discrete([1,2,4])), # try out different number of dense layers\n",
    "    'HP_NUM_CONV_LAYERS': hp.HParam('num_conv_layers', hp.Discrete([0])),\n",
    "    'HP_INCREASE_UNITS_PER_LSTM_LAYER': hp.HParam('increase_units_per_lstm_layer', hp.Discrete([False])), # increase number of units per lstm layer\n",
    "    'HP_BIDIRECTIONAL': hp.HParam('bidirectional', hp.Discrete([False, True])) # increase number of units per lstm layer\n",
    "}\n",
    "\n",
    "experiment3 = Experiment()\n",
    "\n",
    "experiment3.run_experiment(train=train_3,\n",
    "                           val=val_3,\n",
    "                           test=test_3,\n",
    "                           hparams_dict=hparams_dict_3,\n",
    "                           logdir='logs_lstm_3/',\n",
    "                           metrics=metrics)"
   ]
  },
  {
   "attachments": {},
   "cell_type": "markdown",
   "metadata": {},
   "source": [
    "## Search 4\n",
    "MultiLayer and BidirectionalLSTM with different number of convolutional Layers before LSTM network"
   ]
  },
  {
   "cell_type": "code",
   "execution_count": null,
   "metadata": {},
   "outputs": [],
   "source": [
    "train_4 = handler.prepare_data(train_split, balance=True, dataset=True, lstm=True, ccn=True)\n",
    "val_4 = handler.prepare_data(val_split, dataset=True, lstm=True, ccn=True)\n",
    "test_4 = handler.prepare_data(test_split, dataset=True, lstm=True, ccn=True)\n",
    "\n",
    "\n",
    "hparams_dict_4 = {\n",
    "    'HP_ARCHITECTURE': hp.HParam('model_architecture', hp.Discrete(['LSTM'])), # set model architecture as hyperparameter\n",
    "    'HP_NUM_LSTM_LAYERS': hp.HParam('num_lstm_layers', hp.Discrete([1, 2, 4])), # try out 1, 2 or 4 layers for architecture\n",
    "    'HP_NUM_HIDDEN_UNITS': hp.HParam('num_hidden_units', hp.Discrete([32, 64, 128, 256])), # try out different hidden_units\n",
    "    'HP_NUM_DENSE_UNITS': hp.HParam('num_dense_units', hp.Discrete([0])), # try out different number of units for dense layer\n",
    "    'HP_NUM_DENSE_LAYERS': hp.HParam('num_dense_layers', hp.Discrete([0])), # try out different number of dense layers\n",
    "    'HP_NUM_CONV_LAYERS': hp.HParam('num_conv_layers', hp.Discrete([1,2,3,4,5])),\n",
    "    'HP_INCREASE_UNITS_PER_LSTM_LAYER': hp.HParam('increase_units_per_lstm_layer', hp.Discrete([False])), # increase number of units per lstm layer\n",
    "    'HP_BIDIRECTIONAL': hp.HParam('bidirectional', hp.Discrete([False, True])) # increase number of units per lstm layer\n",
    "}\n",
    "\n",
    "experiment4 = Experiment()\n",
    "\n",
    "experiment4.run_experiment(train=train_4,\n",
    "                           val=val_4,\n",
    "                           test=test_4,\n",
    "                           hparams_dict=hparams_dict_4,\n",
    "                           logdir='logs_lstm_4/',\n",
    "                           metrics=metrics)"
   ]
  },
  {
   "cell_type": "markdown",
   "metadata": {},
   "source": []
  }
 ],
 "metadata": {
  "accelerator": "GPU",
  "colab": {
   "collapsed_sections": [
    "IFD-TSa9l6Tc",
    "9qo8QSn3q7tD",
    "JPmB8Wh1na2r",
    "jBbZmkDYj9xD",
    "j948o_LdwExJ",
    "i255ym_VodSF"
   ],
   "provenance": []
  },
  "gpuClass": "standard",
  "kernelspec": {
   "display_name": "Python 3 (ipykernel)",
   "language": "python",
   "name": "python3"
  },
  "language_info": {
   "codemirror_mode": {
    "name": "ipython",
    "version": 3
   },
   "file_extension": ".py",
   "mimetype": "text/x-python",
   "name": "python",
   "nbconvert_exporter": "python",
   "pygments_lexer": "ipython3",
   "version": "3.10.6"
  },
  "vscode": {
   "interpreter": {
    "hash": "a3449bbb043929c6f13b514689ff91c66257e0787e2d8bb0eba8270d3f40eacf"
   }
  }
 },
 "nbformat": 4,
 "nbformat_minor": 1
}
